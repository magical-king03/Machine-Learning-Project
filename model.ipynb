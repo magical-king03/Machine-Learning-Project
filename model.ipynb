{
 "cells": [
  {
   "cell_type": "code",
   "execution_count": 34,
   "metadata": {},
   "outputs": [],
   "source": [
    "import numpy as np\n",
    "import pandas_ta as ta\n",
    "from sklearn.model_selection import train_test_split\n",
    "from sklearn.ensemble import VotingClassifier\n",
    "import pandas as pd\n",
    "import numpy as np\n",
    "import pandas_ta as ta\n",
    "from sklearn.model_selection import train_test_split\n",
    "from sklearn.preprocessing import MinMaxScaler\n",
    "from sklearn.linear_model import LogisticRegression\n",
    "from sklearn.tree import DecisionTreeClassifier\n",
    "from sklearn.ensemble import AdaBoostClassifier, GradientBoostingClassifier, RandomForestClassifier\n",
    "from sklearn.naive_bayes import GaussianNB\n",
    "from sklearn.metrics import accuracy_score, auc, roc_curve\n",
    "import matplotlib.pyplot as plt\n"
   ]
  },
  {
   "cell_type": "code",
   "execution_count": 35,
   "metadata": {},
   "outputs": [
    {
     "data": {
      "text/html": [
       "<div>\n",
       "<style scoped>\n",
       "    .dataframe tbody tr th:only-of-type {\n",
       "        vertical-align: middle;\n",
       "    }\n",
       "\n",
       "    .dataframe tbody tr th {\n",
       "        vertical-align: top;\n",
       "    }\n",
       "\n",
       "    .dataframe thead th {\n",
       "        text-align: right;\n",
       "    }\n",
       "</style>\n",
       "<table border=\"1\" class=\"dataframe\">\n",
       "  <thead>\n",
       "    <tr style=\"text-align: right;\">\n",
       "      <th></th>\n",
       "      <th>Date</th>\n",
       "      <th>Open</th>\n",
       "      <th>High</th>\n",
       "      <th>Low</th>\n",
       "      <th>Close</th>\n",
       "      <th>Adj Close</th>\n",
       "      <th>Volume</th>\n",
       "    </tr>\n",
       "  </thead>\n",
       "  <tbody>\n",
       "    <tr>\n",
       "      <th>0</th>\n",
       "      <td>2003-12-01</td>\n",
       "      <td>1.203398</td>\n",
       "      <td>1.204007</td>\n",
       "      <td>1.194401</td>\n",
       "      <td>1.196501</td>\n",
       "      <td>1.196501</td>\n",
       "      <td>0.0</td>\n",
       "    </tr>\n",
       "    <tr>\n",
       "      <th>1</th>\n",
       "      <td>2003-12-02</td>\n",
       "      <td>1.196101</td>\n",
       "      <td>1.210903</td>\n",
       "      <td>1.194600</td>\n",
       "      <td>1.208897</td>\n",
       "      <td>1.208897</td>\n",
       "      <td>0.0</td>\n",
       "    </tr>\n",
       "    <tr>\n",
       "      <th>2</th>\n",
       "      <td>2003-12-03</td>\n",
       "      <td>1.209000</td>\n",
       "      <td>1.213003</td>\n",
       "      <td>1.207700</td>\n",
       "      <td>1.212298</td>\n",
       "      <td>1.212298</td>\n",
       "      <td>0.0</td>\n",
       "    </tr>\n",
       "    <tr>\n",
       "      <th>3</th>\n",
       "      <td>2003-12-04</td>\n",
       "      <td>1.212004</td>\n",
       "      <td>1.214403</td>\n",
       "      <td>1.204398</td>\n",
       "      <td>1.208094</td>\n",
       "      <td>1.208094</td>\n",
       "      <td>0.0</td>\n",
       "    </tr>\n",
       "    <tr>\n",
       "      <th>4</th>\n",
       "      <td>2003-12-05</td>\n",
       "      <td>1.207802</td>\n",
       "      <td>1.219096</td>\n",
       "      <td>1.206593</td>\n",
       "      <td>1.218695</td>\n",
       "      <td>1.218695</td>\n",
       "      <td>0.0</td>\n",
       "    </tr>\n",
       "  </tbody>\n",
       "</table>\n",
       "</div>"
      ],
      "text/plain": [
       "         Date      Open      High       Low     Close  Adj Close  Volume\n",
       "0  2003-12-01  1.203398  1.204007  1.194401  1.196501   1.196501     0.0\n",
       "1  2003-12-02  1.196101  1.210903  1.194600  1.208897   1.208897     0.0\n",
       "2  2003-12-03  1.209000  1.213003  1.207700  1.212298   1.212298     0.0\n",
       "3  2003-12-04  1.212004  1.214403  1.204398  1.208094   1.208094     0.0\n",
       "4  2003-12-05  1.207802  1.219096  1.206593  1.218695   1.218695     0.0"
      ]
     },
     "execution_count": 35,
     "metadata": {},
     "output_type": "execute_result"
    }
   ],
   "source": [
    "data = pd.read_csv('dataset/EURUSDX.csv')\n",
    "data.head()"
   ]
  },
  {
   "cell_type": "code",
   "execution_count": 37,
   "metadata": {},
   "outputs": [
    {
     "data": {
      "text/plain": [
       "(4870, 7)"
      ]
     },
     "execution_count": 37,
     "metadata": {},
     "output_type": "execute_result"
    }
   ],
   "source": [
    "data.shape"
   ]
  },
  {
   "cell_type": "code",
   "execution_count": 38,
   "metadata": {},
   "outputs": [
    {
     "name": "stdout",
     "output_type": "stream",
     "text": [
      "<class 'pandas.core.frame.DataFrame'>\n",
      "RangeIndex: 4870 entries, 0 to 4869\n",
      "Data columns (total 7 columns):\n",
      " #   Column     Non-Null Count  Dtype  \n",
      "---  ------     --------------  -----  \n",
      " 0   Date       4870 non-null   object \n",
      " 1   Open       4841 non-null   float64\n",
      " 2   High       4841 non-null   float64\n",
      " 3   Low        4841 non-null   float64\n",
      " 4   Close      4841 non-null   float64\n",
      " 5   Adj Close  4841 non-null   float64\n",
      " 6   Volume     4841 non-null   float64\n",
      "dtypes: float64(6), object(1)\n",
      "memory usage: 266.5+ KB\n"
     ]
    }
   ],
   "source": [
    "data.info()"
   ]
  },
  {
   "cell_type": "code",
   "execution_count": 39,
   "metadata": {},
   "outputs": [],
   "source": [
    "data['RSI'] = ta.rsi(data['Close'], timeperiod=15) \n",
    "data['EMA20'] = ta.ema(data['Close'], timeperiod=20) \n",
    "data['EMA100'] = ta.ema(data['Close'], timeperiod=100)\n",
    "data['EMA150'] = ta.ema(data['Close'], timeperiod=150) \n",
    "data['TargetNextClose'] = data['Close'].shift(-1)\n",
    "data['TargetClass'] = np.where(data['TargetNextClose'] > data['Close'], 1, 0)"
   ]
  },
  {
   "cell_type": "code",
   "execution_count": 40,
   "metadata": {},
   "outputs": [
    {
     "data": {
      "text/html": [
       "<div>\n",
       "<style scoped>\n",
       "    .dataframe tbody tr th:only-of-type {\n",
       "        vertical-align: middle;\n",
       "    }\n",
       "\n",
       "    .dataframe tbody tr th {\n",
       "        vertical-align: top;\n",
       "    }\n",
       "\n",
       "    .dataframe thead th {\n",
       "        text-align: right;\n",
       "    }\n",
       "</style>\n",
       "<table border=\"1\" class=\"dataframe\">\n",
       "  <thead>\n",
       "    <tr style=\"text-align: right;\">\n",
       "      <th></th>\n",
       "      <th>Date</th>\n",
       "      <th>Open</th>\n",
       "      <th>High</th>\n",
       "      <th>Low</th>\n",
       "      <th>Close</th>\n",
       "      <th>Adj Close</th>\n",
       "      <th>Volume</th>\n",
       "      <th>RSI</th>\n",
       "      <th>EMA20</th>\n",
       "      <th>EMA100</th>\n",
       "      <th>EMA150</th>\n",
       "      <th>TargetNextClose</th>\n",
       "      <th>TargetClass</th>\n",
       "    </tr>\n",
       "  </thead>\n",
       "  <tbody>\n",
       "    <tr>\n",
       "      <th>14</th>\n",
       "      <td>2003-12-19</td>\n",
       "      <td>1.242205</td>\n",
       "      <td>1.243503</td>\n",
       "      <td>1.235102</td>\n",
       "      <td>1.238497</td>\n",
       "      <td>1.238497</td>\n",
       "      <td>0.0</td>\n",
       "      <td>77.989155</td>\n",
       "      <td>1.229897</td>\n",
       "      <td>1.229897</td>\n",
       "      <td>1.229897</td>\n",
       "      <td>1.239895</td>\n",
       "      <td>1</td>\n",
       "    </tr>\n",
       "    <tr>\n",
       "      <th>15</th>\n",
       "      <td>2003-12-22</td>\n",
       "      <td>1.235697</td>\n",
       "      <td>1.244601</td>\n",
       "      <td>1.235697</td>\n",
       "      <td>1.239895</td>\n",
       "      <td>1.239895</td>\n",
       "      <td>0.0</td>\n",
       "      <td>78.756594</td>\n",
       "      <td>1.231714</td>\n",
       "      <td>1.231714</td>\n",
       "      <td>1.231714</td>\n",
       "      <td>1.240003</td>\n",
       "      <td>1</td>\n",
       "    </tr>\n",
       "    <tr>\n",
       "      <th>16</th>\n",
       "      <td>2003-12-23</td>\n",
       "      <td>1.239895</td>\n",
       "      <td>1.267202</td>\n",
       "      <td>1.238804</td>\n",
       "      <td>1.240003</td>\n",
       "      <td>1.240003</td>\n",
       "      <td>0.0</td>\n",
       "      <td>78.818037</td>\n",
       "      <td>1.233221</td>\n",
       "      <td>1.233221</td>\n",
       "      <td>1.233221</td>\n",
       "      <td>1.245299</td>\n",
       "      <td>1</td>\n",
       "    </tr>\n",
       "    <tr>\n",
       "      <th>17</th>\n",
       "      <td>2003-12-24</td>\n",
       "      <td>1.240095</td>\n",
       "      <td>1.247194</td>\n",
       "      <td>1.240003</td>\n",
       "      <td>1.245299</td>\n",
       "      <td>1.245299</td>\n",
       "      <td>0.0</td>\n",
       "      <td>81.624719</td>\n",
       "      <td>1.235417</td>\n",
       "      <td>1.235417</td>\n",
       "      <td>1.235417</td>\n",
       "      <td>1.244803</td>\n",
       "      <td>0</td>\n",
       "    </tr>\n",
       "    <tr>\n",
       "      <th>18</th>\n",
       "      <td>2003-12-25</td>\n",
       "      <td>1.245702</td>\n",
       "      <td>1.247007</td>\n",
       "      <td>1.244307</td>\n",
       "      <td>1.244803</td>\n",
       "      <td>1.244803</td>\n",
       "      <td>0.0</td>\n",
       "      <td>80.548250</td>\n",
       "      <td>1.237124</td>\n",
       "      <td>1.237124</td>\n",
       "      <td>1.237124</td>\n",
       "      <td>1.243194</td>\n",
       "      <td>0</td>\n",
       "    </tr>\n",
       "  </tbody>\n",
       "</table>\n",
       "</div>"
      ],
      "text/plain": [
       "          Date      Open      High       Low     Close  Adj Close  Volume  \\\n",
       "14  2003-12-19  1.242205  1.243503  1.235102  1.238497   1.238497     0.0   \n",
       "15  2003-12-22  1.235697  1.244601  1.235697  1.239895   1.239895     0.0   \n",
       "16  2003-12-23  1.239895  1.267202  1.238804  1.240003   1.240003     0.0   \n",
       "17  2003-12-24  1.240095  1.247194  1.240003  1.245299   1.245299     0.0   \n",
       "18  2003-12-25  1.245702  1.247007  1.244307  1.244803   1.244803     0.0   \n",
       "\n",
       "          RSI     EMA20    EMA100    EMA150  TargetNextClose  TargetClass  \n",
       "14  77.989155  1.229897  1.229897  1.229897         1.239895            1  \n",
       "15  78.756594  1.231714  1.231714  1.231714         1.240003            1  \n",
       "16  78.818037  1.233221  1.233221  1.233221         1.245299            1  \n",
       "17  81.624719  1.235417  1.235417  1.235417         1.244803            0  \n",
       "18  80.548250  1.237124  1.237124  1.237124         1.243194            0  "
      ]
     },
     "execution_count": 40,
     "metadata": {},
     "output_type": "execute_result"
    }
   ],
   "source": [
    "data.dropna(inplace=True)\n",
    "data.head()"
   ]
  },
  {
   "cell_type": "code",
   "execution_count": 41,
   "metadata": {},
   "outputs": [],
   "source": [
    "scaler = MinMaxScaler()\n",
    "scaled_features = scaler.fit_transform(data[['Open', 'High', 'Low', 'Close', 'RSI', 'EMA20', 'EMA100', 'EMA150', 'TargetNextClose']])\n",
    "\n",
    "X = pd.DataFrame(scaled_features, columns=['Open', 'High', 'Low', 'Close', 'RSI', 'EMA20', 'EMA100', 'EMA150', 'TargetNextClose'])\n",
    "y = data['TargetClass']\n",
    "\n",
    "X_train, X_test, y_train, y_test = train_test_split(X, y, test_size=0.2, random_state=42)\n"
   ]
  },
  {
   "cell_type": "code",
   "execution_count": 42,
   "metadata": {},
   "outputs": [
    {
     "name": "stdout",
     "output_type": "stream",
     "text": [
      "Model Accuracy: 0.8546209761163032\n"
     ]
    }
   ],
   "source": [
    "clf1 = LogisticRegression(random_state=0)\n",
    "clf2 = RandomForestClassifier(n_estimators=50, random_state=0)\n",
    "clf3 = GaussianNB()\n",
    "\n",
    "voting_clf = VotingClassifier(estimators=[('lr', clf1), ('rf', clf2), ('gnb', clf3)], voting='soft')\n",
    "voting_clf.fit(X_train, y_train)\n",
    "y_pred = voting_clf.predict(X_test)\n",
    "accuracy = accuracy_score(y_test, y_pred)\n",
    "print(f\"Model Accuracy: {accuracy}\")"
   ]
  },
  {
   "cell_type": "code",
   "execution_count": 43,
   "metadata": {},
   "outputs": [
    {
     "name": "stdout",
     "output_type": "stream",
     "text": [
      "Logistic Regression Accuracy: 0.8151609553478713\n"
     ]
    }
   ],
   "source": [
    "log_reg = LogisticRegression(random_state=0)\n",
    "log_reg.fit(X_train, y_train)\n",
    "y_pred_lr = log_reg.predict(X_test)\n",
    "accuracy_log = accuracy_score(y_test, y_pred_lr)\n",
    "print(f\"Logistic Regression Accuracy: {accuracy_log}\")"
   ]
  },
  {
   "cell_type": "code",
   "execution_count": 44,
   "metadata": {},
   "outputs": [
    {
     "name": "stdout",
     "output_type": "stream",
     "text": [
      "Decision Tree accuracy: 0.8359293873312564\n"
     ]
    }
   ],
   "source": [
    "dt_clf = DecisionTreeClassifier(random_state=0)\n",
    "dt_clf.fit(X_train, y_train)\n",
    "y_pred_dt = dt_clf.predict(X_test)\n",
    "accuracy_dt = accuracy_score(y_test, y_pred_dt)\n",
    "print(f\"Decision Tree accuracy: {accuracy_dt}\")"
   ]
  },
  {
   "cell_type": "code",
   "execution_count": 45,
   "metadata": {},
   "outputs": [
    {
     "name": "stdout",
     "output_type": "stream",
     "text": [
      "Gaussian NB accuracy : 0.5005192107995846\n"
     ]
    }
   ],
   "source": [
    "gaussianNB = GaussianNB()\n",
    "gaussianNB.fit(X_train, y_train)\n",
    "y_pred_gaussianNB = gaussianNB.predict(X_test)\n",
    "accuracy_gaussianNB = accuracy_score(y_test, y_pred_gaussianNB)\n",
    "print(f\"Gaussian NB accuracy : {accuracy_gaussianNB}\")"
   ]
  },
  {
   "cell_type": "code",
   "execution_count": 46,
   "metadata": {},
   "outputs": [
    {
     "name": "stderr",
     "output_type": "stream",
     "text": [
      "c:\\Users\\viswe\\AppData\\Local\\Programs\\Python\\Python312\\Lib\\site-packages\\sklearn\\ensemble\\_weight_boosting.py:519: FutureWarning: The SAMME.R algorithm (the default) is deprecated and will be removed in 1.6. Use the SAMME algorithm to circumvent this warning.\n",
      "  warnings.warn(\n"
     ]
    },
    {
     "name": "stdout",
     "output_type": "stream",
     "text": [
      "Ada Boost Classifier accuracy: 0.5898234683281413\n"
     ]
    }
   ],
   "source": [
    "adaboost = AdaBoostClassifier(random_state=0)\n",
    "adaboost.fit(X_train, y_train)\n",
    "y_pred_adaboost = adaboost.predict(X_test)\n",
    "accuracy_adaboost = accuracy_score(y_test, y_pred_adaboost)\n",
    "print(f\"Ada Boost Classifier accuracy: {accuracy_adaboost}\")"
   ]
  },
  {
   "cell_type": "code",
   "execution_count": 47,
   "metadata": {},
   "outputs": [
    {
     "name": "stdout",
     "output_type": "stream",
     "text": [
      "Gradient Boosting Classifier accuracy: 0.7767393561786086\n"
     ]
    }
   ],
   "source": [
    "grad_boost = GradientBoostingClassifier(random_state=0)\n",
    "grad_boost.fit(X_train, y_train)\n",
    "y_pred_grad_boost = grad_boost.predict(X_test)\n",
    "accuracy_grad_boost = accuracy_score(y_test, y_pred_grad_boost)\n",
    "print(f\"Gradient Boosting Classifier accuracy: {accuracy_grad_boost}\")"
   ]
  }
 ],
 "metadata": {
  "kernelspec": {
   "display_name": "Python 3",
   "language": "python",
   "name": "python3"
  },
  "language_info": {
   "codemirror_mode": {
    "name": "ipython",
    "version": 3
   },
   "file_extension": ".py",
   "mimetype": "text/x-python",
   "name": "python",
   "nbconvert_exporter": "python",
   "pygments_lexer": "ipython3",
   "version": "3.12.3"
  }
 },
 "nbformat": 4,
 "nbformat_minor": 2
}
